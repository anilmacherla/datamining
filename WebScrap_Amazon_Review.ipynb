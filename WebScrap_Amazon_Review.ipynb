{
  "nbformat": 4,
  "nbformat_minor": 0,
  "metadata": {
    "colab": {
      "provenance": [],
      "authorship_tag": "ABX9TyPYFYGKZAcbVWi1j90MJdOW",
      "include_colab_link": true
    },
    "kernelspec": {
      "name": "python3",
      "display_name": "Python 3"
    },
    "language_info": {
      "name": "python"
    }
  },
  "cells": [
    {
      "cell_type": "markdown",
      "metadata": {
        "id": "view-in-github",
        "colab_type": "text"
      },
      "source": [
        "<a href=\"https://colab.research.google.com/github/anilmacherla/datamining/blob/main/WebScrap_Amazon_Review.ipynb\" target=\"_parent\"><img src=\"https://colab.research.google.com/assets/colab-badge.svg\" alt=\"Open In Colab\"/></a>"
      ]
    },
    {
      "cell_type": "code",
      "source": [
        "import requests\n",
        "from bs4 import BeautifulSoup\n",
        "import pandas as pd\n",
        "\n",
        "names = []\n",
        "reviews = []\n",
        "ratings=[]\n",
        "data_string = \"\"\n",
        "headers = {\n",
        "            'user-agent': 'Mozilla/5.0 (Windows NT 10.0; Win64; x64) AppleWebKit/537.36 '\n",
        "                          '(KHTML, like Gecko) Chrome/75.0.3770.142 Safari/537.36'}\n",
        "\n",
        "for page in range(1,5): \n",
        "    url = \"https://www.amazon.com/product-reviews/B00YQ2KCWO/ref=cm_cr_getr_d_paging_btm_next_\" + str(page) + \"?ie=UTF8&reviewerType=all_reviews&pageNumber=\"+ str(page)\n",
        "    response = requests.get(url, headers={'User-Agent':'Mozilla/5.0'})\n",
        "    soup = BeautifulSoup(response.text, 'html.parser')\n",
        "    for item in soup.find_all(\"span\", class_=\"a-profile-name\"):\n",
        "      data_string = data_string + item.get_text()\n",
        "      names.append(data_string)\n",
        "      data_string = \"\"  \n",
        "    \n",
        "    for item in soup.find_all(\"span\", {\"data-hook\": \"review-body\"}):\n",
        "      data_string = data_string + item.get_text()\n",
        "      reviews.append(data_string)\n",
        "      data_string = \"\"\n",
        "    \n",
        "    for item in soup.find_all('i', {'data-hook': 'review-star-rating'}):\n",
        "      data_string = data_string + item.get_text()\n",
        "      ratings.append(data_string)\n",
        "      data_string = \"\"\n",
        "\n",
        "reviews_dict = {'Profile Name': names, 'Reviews': reviews,'Ratings': ratings}\n",
        "df = pd.DataFrame.from_dict(reviews_dict, orient='index')\n",
        "prod_reviews = df.T\n",
        "prod_reviews['Reviews'] = prod_reviews['Reviews'].str.replace('\\n','')\n",
        "print(prod_reviews)"
      ],
      "metadata": {
        "colab": {
          "base_uri": "https://localhost:8080/"
        },
        "id": "6OFy8hPFpns6",
        "outputId": "6552d29b-26df-4fa9-89a2-676a33b125a4"
      },
      "execution_count": null,
      "outputs": [
        {
          "output_type": "stream",
          "name": "stdout",
          "text": [
            "      Profile Name                                            Reviews  \\\n",
            "0        Lionheart  I had a good time, but not a great. A sequel s...   \n",
            "1            gamer  I got to level twenty on normal difficulty and...   \n",
            "2   Kneel2TheCrown  I haven't finished the game yet(as in the main...   \n",
            "3          Raul G.  Jumping into Fallout 4 feels like picking righ...   \n",
            "4    C. Badovinatz  Where to start?  I'll start by saying that I l...   \n",
            "5            Jasm7  Ok, 5 star review on an imperfect game?  Well,...   \n",
            "6           Rose D  This is my 14 year old son’s review for Fallou...   \n",
            "7  Dustin and Kate  I know, I know. You’re asking why you would th...   \n",
            "8          Dean D.  I was worried when I saw some mixed reviews of...   \n",
            "9             Bdub  Easy to playArrived early and in condition stated   \n",
            "\n",
            "              Ratings  \n",
            "0  4.0 out of 5 stars  \n",
            "1  4.0 out of 5 stars  \n",
            "2  5.0 out of 5 stars  \n",
            "3  5.0 out of 5 stars  \n",
            "4  4.0 out of 5 stars  \n",
            "5  5.0 out of 5 stars  \n",
            "6  4.0 out of 5 stars  \n",
            "7  5.0 out of 5 stars  \n",
            "8  5.0 out of 5 stars  \n",
            "9  5.0 out of 5 stars  \n"
          ]
        }
      ]
    }
  ]
}